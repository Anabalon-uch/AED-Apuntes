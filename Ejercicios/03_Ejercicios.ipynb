{
 "cells": [
  {
   "cell_type": "markdown",
   "metadata": {
    "id": "TH9WR1dgwrpj"
   },
   "source": [
    "### Ejercicio 3.1\n",
    "\n",
    "Si tenemos dos números complejos\n",
    "\n",
    "$$\n",
    "\\begin{align}\n",
    "u&=a+bi\\\\\n",
    "v&=c+di\n",
    "\\end{align}\n",
    "$$\n",
    "\n",
    "podemos calcular su producto $z=x+yi$ calculando\n",
    "\n",
    "$$\n",
    "\\begin{align}\n",
    "x&=ac-bd\\\\\n",
    "y&=ad+bc\n",
    "\\end{align}\n",
    "$$\n",
    "\n",
    "lo cual requiere hacer 4 multiplicación de números reales.\n",
    "\n",
    "El siguiente código implementa este cálculo:\n"
   ]
  },
  {
   "cell_type": "code",
   "execution_count": null,
   "metadata": {
    "colab": {
     "base_uri": "https://localhost:8080/"
    },
    "id": "iGVkuLYbALac",
    "outputId": "219b2427-465a-4cd6-fcf6-5d14aa92e93f"
   },
   "outputs": [],
   "source": [
    "def mult4(u,v):\n",
    "  # Recibe dos números complejos como pares ordenados \n",
    "  # y retorna su producto utilizando 4 multiplicaciones\n",
    "  (a,b)=u\n",
    "  (c,d)=v\n",
    "  x=a*c-b*d\n",
    "  y=a*d+b*c\n",
    "  return (x,y)\n",
    "\n",
    "print(mult4((0,1),(0,1)))\n",
    "print(mult4((2,-4),(1,3)))\n",
    "print(mult4((-1,2),(3,4)))"
   ]
  },
  {
   "cell_type": "markdown",
   "metadata": {
    "id": "SPTH5YvYFAMJ"
   },
   "source": [
    "Encuentre una forma de realizar este cálculo **haciendo solo 3 multiplicaciones de números reales**.\n",
    "Escriba las fórmulas respectivas y luego escriba el código para la siguiente función:"
   ]
  },
  {
   "cell_type": "code",
   "execution_count": null,
   "metadata": {
    "id": "bw5fRtgsFTH7"
   },
   "outputs": [],
   "source": [
    "def mult3(u,v):\n",
    "  # Recibe dos números complejos como pares ordenados \n",
    "  # y retorna su producto utilizando solo 3 multiplicaciones\n",
    "  (a,b)=u\n",
    "  (c,d)=v\n",
    "\n",
    "  # Escriba aquí las instrucciones para calcular x, y\n",
    "\n",
    "  return (x,y)\n",
    "\n",
    "print(mult3((0,1),(0,1)))\n",
    "print(mult3((2,-4),(1,3)))\n",
    "print(mult3((-1,2),(3,4)))"
   ]
  },
  {
   "cell_type": "markdown",
   "metadata": {
    "id": "opJgiG4ywrpo"
   },
   "source": [
    "### Ejercicio 3.2\n",
    "\n",
    "Si $f_n$ son los números de Fibonacci, demuestre que, para todo $n\\ge 1$,\n",
    "\n",
    "$$\n",
    "\\begin{pmatrix}\n",
    "1 & 1\\\\\n",
    "1 & 0\n",
    "\\end{pmatrix}^n\n",
    "=\n",
    "\\begin{pmatrix}\n",
    "f_{n+1} & f_n \\\\\n",
    "f_n & f_{n-1}\n",
    "\\end{pmatrix}\n",
    "$$"
   ]
  },
  {
   "cell_type": "markdown",
   "metadata": {
    "id": "c5RTM25iwrpt"
   },
   "source": [
    "### Ejercicio 3.3\n",
    "\n",
    "Modifique la función ``LCS`` para que retorne una subsecuencia común más larga, en lugar de retornar su longitud."
   ]
  },
  {
   "cell_type": "code",
   "execution_count": null,
   "metadata": {
    "id": "3KQGLlPCwrpv"
   },
   "outputs": [],
   "source": [
    "import numpy as np\n",
    "def LCS(a,b):\n",
    "    \"\"\"\n",
    "    Encuentra el largo de la subsecuencia común más larga entre a y b\n",
    "    \"\"\"\n",
    "    m=len(a)\n",
    "    n=len(b)\n",
    "    L=np.zeros((m+1,n+1),dtype=int)\n",
    "    for i in range(1,m+1):\n",
    "        for j in range(1,n+1):\n",
    "            if a[i-1]==b[j-1]:\n",
    "                L[i,j]=1+L[i-1,j-1]\n",
    "            else:\n",
    "                L[i,j]=max(L[i-1,j],L[i,j-1])\n",
    "    return L[m,n] "
   ]
  },
  {
   "cell_type": "markdown",
   "metadata": {
    "id": "XbNUB2uJwrpx"
   },
   "source": [
    "### Ejercicio 3.4\n",
    "\n",
    "Modifique la función para que marque con `\".\"` los casilleros por donde hubo intentos no exitosos de salir, y con `\"x\"` los casilleros que finalmente condujeron a la salida."
   ]
  },
  {
   "cell_type": "code",
   "execution_count": null,
   "metadata": {
    "id": "Mqu23OtCwrpz"
   },
   "outputs": [],
   "source": [
    "def salida(i,j):\n",
    "    if L[i][j]==\"=\": # encontramos la salida\n",
    "        return True\n",
    "    if L[i][j]!=\" \": # espacio ocupado\n",
    "        return False\n",
    "    L[i]=L[i][:j]+\"x\"+L[i][j+1:]\n",
    "    if salida(i,j-1) \\\n",
    "    or salida(i,j+1) \\\n",
    "    or salida(i-1,j) \\\n",
    "    or salida(i+1,j):\n",
    "        return True\n",
    "    return False  \n",
    "\n",
    "L = [\n",
    "\"+--+-----+--+\",\n",
    "\"|  |     |  |\",\n",
    "\"|  +--+     =\",\n",
    "\"|     |  |  |\",\n",
    "\"+--+  |  |  |\",\n",
    "\"|  |        |\",\n",
    "\"|  |     |  |\",\n",
    "\"+--+-----+--+\"\n",
    "]\n",
    "print(salida(4,10))\n",
    "for linea in L:\n",
    "    print(linea)"
   ]
  },
  {
   "cell_type": "markdown",
   "metadata": {},
   "source": [
    "Además, pruebe el caso salida(1,1) y muestre el resultado."
   ]
  },
  {
   "cell_type": "code",
   "execution_count": null,
   "metadata": {},
   "outputs": [],
   "source": [
    "L = [\n",
    "\"+--+-----+--+\",\n",
    "\"|  |     |  |\",\n",
    "\"|  +--+     =\",\n",
    "\"|     |  |  |\",\n",
    "\"+--+  |  |  |\",\n",
    "\"|  |        |\",\n",
    "\"|  |     |  |\",\n",
    "\"+--+-----+--+\"\n",
    "]\n",
    "print(salida(1,1))\n",
    "\n",
    "for linea in L:\n",
    "    print(linea)"
   ]
  },
  {
   "cell_type": "code",
   "execution_count": null,
   "metadata": {},
   "outputs": [],
   "source": []
  }
 ],
 "metadata": {
  "colab": {
   "collapsed_sections": [],
   "name": "Copy of 03_Ejercicios.ipynb",
   "provenance": []
  },
  "kernelspec": {
   "display_name": "Python 3",
   "language": "python",
   "name": "python3"
  },
  "language_info": {
   "codemirror_mode": {
    "name": "ipython",
    "version": 3
   },
   "file_extension": ".py",
   "mimetype": "text/x-python",
   "name": "python",
   "nbconvert_exporter": "python",
   "pygments_lexer": "ipython3",
   "version": "3.6.9"
  }
 },
 "nbformat": 4,
 "nbformat_minor": 1
}
