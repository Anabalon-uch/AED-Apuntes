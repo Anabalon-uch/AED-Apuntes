{
 "cells": [
  {
   "cell_type": "markdown",
   "metadata": {},
   "source": [
    "### Ejercicio 3.1\n",
    "\n",
    "Si tenemos dos números complejos\n",
    "\n",
    "$$\n",
    "\\begin{align}\n",
    "u&=a+bi\\\\\n",
    "v&=c+di\n",
    "\\end{align}\n",
    "$$\n",
    "\n",
    "podemos calcular su producto\n",
    "\n",
    "$$\n",
    "uv=(ac-bd)+(ad+bc)i\n",
    "$$\n",
    "\n",
    "haciendo 4 multiplicación de números reales.\n",
    "\n",
    "Encuentre una forma de realizar este cálculo haciendo solo 3 multiplicaciones de números reales."
   ]
  },
  {
   "cell_type": "markdown",
   "metadata": {},
   "source": [
    "### Ejercicio 3.2\n",
    "\n",
    "Si $f_n$ son los números de Fibonacci, demuestre que, para todo $n\\ge 1$,\n",
    "\n",
    "$$\n",
    "\\begin{pmatrix}\n",
    "1 & 1\\\\\n",
    "1 & 0\n",
    "\\end{pmatrix}^n\n",
    "=\n",
    "\\begin{pmatrix}\n",
    "f_{n+1} & f_n \\\\\n",
    "f_n & f_{n-1}\n",
    "\\end{pmatrix}\n",
    "$$"
   ]
  },
  {
   "cell_type": "markdown",
   "metadata": {},
   "source": [
    "### Ejercicio 3.3\n",
    "\n",
    "Modifique la función ``LCS`` para que retorne una subsecuencia común más larga, en lugar de retornar su longitud."
   ]
  },
  {
   "cell_type": "code",
   "execution_count": null,
   "metadata": {},
   "outputs": [],
   "source": [
    "import numpy as np\n",
    "def LCS(a,b):\n",
    "    \"\"\"\n",
    "    Encuentra el largo de la subsecuencia común más larga entre a y b\n",
    "    \"\"\"\n",
    "    m=len(a)\n",
    "    n=len(b)\n",
    "    L=np.zeros((m+1,n+1),dtype=int)\n",
    "    for i in range(1,m+1):\n",
    "        for j in range(1,n+1):\n",
    "            if a[i-1]==b[j-1]:\n",
    "                L[i,j]=1+L[i-1,j-1]\n",
    "            else:\n",
    "                L[i,j]=max(L[i-1,j],L[i,j-1])\n",
    "    return L[m,n] "
   ]
  },
  {
   "cell_type": "markdown",
   "metadata": {},
   "source": [
    "### Ejercicio 3.4\n",
    "\n",
    "Modifique la función para que marque con `\".\"` los casilleros por donde hubo intentos no exitosos de salir, y con `\"x\"` los casilleros que finalmente condujeron a la salida."
   ]
  },
  {
   "cell_type": "code",
   "execution_count": null,
   "metadata": {},
   "outputs": [],
   "source": [
    "def salida(i,j):\n",
    "    if L[i][j]==\"=\": # encontramos la salida\n",
    "        return True\n",
    "    if L[i][j]!=\" \": # espacio ocupado\n",
    "        return False\n",
    "    L[i]=L[i][:j]+\"x\"+L[i][j+1:]\n",
    "    if salida(i,j-1) \\\n",
    "    or salida(i,j+1) \\\n",
    "    or salida(i-1,j) \\\n",
    "    or salida(i+1,j):\n",
    "        return True\n",
    "    return False  \n",
    "\n",
    "L = [\n",
    "\"+--+-----+--+\",\n",
    "\"|  |     |  |\",\n",
    "\"|  +--+     =\",\n",
    "\"|     |  |  |\",\n",
    "\"+--+  |  |  |\",\n",
    "\"|  |        |\",\n",
    "\"|  |     |  |\",\n",
    "\"+--+-----+--+\"\n",
    "]\n",
    "print(salida(4,10))\n",
    "for linea in L:\n",
    "    print(linea)"
   ]
  }
 ],
 "metadata": {
  "kernelspec": {
   "display_name": "Python 3",
   "language": "python",
   "name": "python3"
  },
  "language_info": {
   "codemirror_mode": {
    "name": "ipython",
    "version": 3
   },
   "file_extension": ".py",
   "mimetype": "text/x-python",
   "name": "python",
   "nbconvert_exporter": "python",
   "pygments_lexer": "ipython3",
   "version": "3.6.9"
  }
 },
 "nbformat": 4,
 "nbformat_minor": 4
}
