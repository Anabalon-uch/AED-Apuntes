{
 "cells": [
  {
   "cell_type": "markdown",
   "metadata": {},
   "source": [
    "### Ejercicio 2.1\n",
    "\n",
    "Resuelva la ecuación\n",
    "\n",
    "$$\n",
    "a_n=b_n a_{n-1}+c_n\n",
    "$$\n",
    "\n",
    "donde $b_n$ y $c_n$ son funciones conocidas y $b_n\\neq 0$ for all $n\\ge 0$."
   ]
  },
  {
   "cell_type": "markdown",
   "metadata": {},
   "source": [
    "### Ejercicio 2.2\n",
    "\n",
    "Resuelva la ecuación homogénea de las Torres de Hanoi:\n",
    "\n",
    "$$\n",
    "\\begin{align}\n",
    "a_n-3a_{n-1}+2a_{n-2}&=0 \\text{ para } n\\ge 2\\\\\n",
    "a_0=0\\\\\n",
    "a_1=1\n",
    "\\end{align}\n",
    "$$"
   ]
  },
  {
   "cell_type": "markdown",
   "metadata": {},
   "source": [
    "### Ejercicio 2.3\n",
    "\n",
    "El método del ordenación **Stooge Sort** es un método recursivo que puede describirse de la siguiente manera:\n",
    "\n",
    "* Si el primer elemento es mayor que el último, los intercambiamos\n",
    "* Si hay 3 o más elementos en la lista, entonces:\n",
    "    * Ordenar los primeros 2/3 de la lista recursivamente\n",
    "    * Ordenar los últimos 2/3 de la lista, recursivamente, y\n",
    "    * Ordenar (¡de nuevo!) los primeros 2/3 de la lista.\n",
    "\n",
    "Escriba una ecuación que modele el tiempo de ejecución de Stooge Sort y resuélvala usando el Teorema Maestro."
   ]
  },
  {
   "cell_type": "code",
   "execution_count": null,
   "metadata": {},
   "outputs": [],
   "source": []
  }
 ],
 "metadata": {
  "kernelspec": {
   "display_name": "Python 3",
   "language": "python",
   "name": "python3"
  },
  "language_info": {
   "codemirror_mode": {
    "name": "ipython",
    "version": 3
   },
   "file_extension": ".py",
   "mimetype": "text/x-python",
   "name": "python",
   "nbconvert_exporter": "python",
   "pygments_lexer": "ipython3",
   "version": "3.6.9"
  }
 },
 "nbformat": 4,
 "nbformat_minor": 4
}
