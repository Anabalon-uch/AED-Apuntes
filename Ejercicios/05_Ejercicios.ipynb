{
 "cells": [
  {
   "cell_type": "markdown",
   "metadata": {},
   "source": [
    "### Ejercicio 5.1\n",
    "En este ejercicio se trata chequear si una secuencia de paréntesis está bien escrita. Si hay solo un tipo de paréntesis, por ejemplo ( y ), una secuencia correcta sería (()(())) y una incorrecta seria (()))()( o ()). Ésta sería una tarea fácil de responder, pues bastaría con llevar un contador de paréntesis abiertos, que se incrementa cuando se encuentra un ( y se decrementa cuando se encuentra un ) y se va chequeando que este contador nunca sea negativo y cuando se termine la secuencia el contador quede en 0. "
   ]
  },
  {
   "cell_type": "code",
   "execution_count": 5,
   "metadata": {},
   "outputs": [],
   "source": [
    "def chequeo(s): # s es un strings con una secuencia de paréntesis ( )\n",
    "    i = 0 # contador de paréntesis abiertos\n",
    "    for c in s: \n",
    "        if c == \"(\":\n",
    "            i +=1\n",
    "        else:\n",
    "            i -=1\n",
    "        if i < 0: break\n",
    "    if i == 0: return \"CORRECTA\"\n",
    "    else : return \"INCORRECTA Contador = \"+str(i)"
   ]
  },
  {
   "cell_type": "markdown",
   "metadata": {},
   "source": [
    "Probemos con los ejemplos :"
   ]
  },
  {
   "cell_type": "code",
   "execution_count": null,
   "metadata": {},
   "outputs": [],
   "source": [
    "print(chequeo(\"(()(()))\"))\n",
    "print(chequeo(\"(())(()\"))\n",
    "print(chequeo(\"(()))\"))"
   ]
  },
  {
   "cell_type": "markdown",
   "metadata": {},
   "source": [
    "El problema se hace bastante más complejo cuando hay más de un tipo de paréntesis, por ejemplo (), [] y {} y ellos tienen que estar balanceados respectivamente, es decir se permite {([]{()})} o [{()[]}] pero no ([{]}) o {[()}]\n",
    "Esto se puede hacer con la ayuda de un Stack o Pila, inicialmente vacío.\n",
    "Luego, por cada símbolo que se va chequeando:\n",
    "   - si es un abre paréntesis entonces se pone en el stack y se continúa con el chequeo del próximo símbolo\n",
    "   - si es un cierra paréntesis entonces se revisa el elemento del tope del stack\n",
    "    - si el stack está vacío, entonces la secuencia está mal escrita y ahí termina el proceso. \n",
    "    - si el stack no está vacío, se extrae el símbolo del tope y se chequea si es un abre paréntesis que coincide con el tipo de cierra paréntesis que se encontró. Si es así, se continúa con el chequeo del próximo símbolo, si no la fórmula está mal escrita y ahí termina el proceso. \n",
    "\n",
    "Al final del proceso se debe chequear si el stack esta vacío, con lo cual se comprueba que la fórmula esta bien escrita. Si no, la fórmula está mal escrita."
   ]
  },
  {
   "cell_type": "markdown",
   "metadata": {},
   "source": [
    "Se le pide escribir una funcion chequeo2 que reciba 3 parametros de tipo string: ``s``, ``a`` y ``b``. En ``s`` viene la secuencia de paréntesis a chequear, en ``a`` vienen los abre parentesis permitidos y en ``b`` los cierra paréntesis respectivos de modo que en ``b[i]`` está el paréntesis que cierra a ``a[i]``. \n",
    "Por simplicidad use la implementacion de pila que viene a continuacion "
   ]
  },
  {
   "cell_type": "code",
   "execution_count": 7,
   "metadata": {},
   "outputs": [],
   "source": [
    "class Pila:\n",
    "    def __init__(self):\n",
    "        self.s=[]\n",
    "    def push(self,x):\n",
    "        self.s.append(x)\n",
    "    def pop(self):\n",
    "        assert len(self.s)>0\n",
    "        return self.s.pop() # pop de lista, no de Pila\n",
    "    def is_empty(self):\n",
    "        return len(self.s)==0"
   ]
  },
  {
   "cell_type": "markdown",
   "metadata": {},
   "source": [
    "Y escriba la funcion a continuación:"
   ]
  },
  {
   "cell_type": "code",
   "execution_count": null,
   "metadata": {},
   "outputs": [],
   "source": [
    "def chequeo2(s, a, b):\n",
    "    #Escriba aquí su función"
   ]
  },
  {
   "cell_type": "markdown",
   "metadata": {},
   "source": [
    "Pruébela con los siguientes casos:"
   ]
  },
  {
   "cell_type": "code",
   "execution_count": null,
   "metadata": {},
   "outputs": [],
   "source": [
    "print(chequeo2(\"(()())\",\"(\",\")\"))\n",
    "print(chequeo2(\"{([]{()})}\",\"{[(\",\"}])\"))\n",
    "print(chequeo2(\"{([]()})}\",\"{[(\",\"}])\"))\n",
    "print(chequeo2(\"{<{<>}>}\", \"{<\",\"}>\"))\n",
    "print(chequeo2(\"{<{<>>}>}\", \"{<\",\"}>\"))"
   ]
  },
  {
   "cell_type": "markdown",
   "metadata": {},
   "source": [
    "### Ejercicio 5.2\n",
    "\n",
    "Agregar a la clase Heap un método ``modificar(k,x)`` que al ser invocado, cambie la prioridad del elemento del casillero ``k``, dándole como nuevo valor ``x`` y asegurando que el heap siga cumpliendo las restricciones de orden. Esta operación debe funcionar en tiempo $O(\\log{n})$ en el peor caso. Escriba a continuación la definición del método ``modificar(k,x)``, y pruébela con las instrucciones que aparecen en el casillero siguiente."
   ]
  },
  {
   "cell_type": "code",
   "execution_count": null,
   "metadata": {},
   "outputs": [],
   "source": [
    "import numpy as np\n",
    "def trepar(a,j): # El elemento a[j] trepa hasta su nivel de prioridad \n",
    "    while j>=1 and a[j]>a[(j-1)//2]:\n",
    "        (a[j],a[(j-1)//2])=(a[(j-1)//2],a[j]) # intercambiamos con el padre\n",
    "        j=(j-1)//2 # subimos al lugar del padre\n",
    "        \n",
    "def hundir(a,j,n): # El elemento a[j] se hunde hasta su nivel de prioridad\n",
    "    while 2*j+1<n: # mientras tenga al menos 1 hijo\n",
    "        k=2*j+1 # el hijo izquierdo\n",
    "        if k+1<n and a[k+1]>a[k]: # el hijo derecho existe y es mayor\n",
    "            k+=1\n",
    "        if a[j]>=a[k]: # tiene mejor prioridad que ambos hijos\n",
    "            break\n",
    "        (a[j],a[k])=(a[k],a[j]) # se intercambia con el mayor de los hijos\n",
    "        j=k # bajamos al lugar del mayor de los hijos\n",
    "    \n",
    "class Heap:\n",
    "    def __init__(self,maxn=100):\n",
    "        self.a=np.zeros(maxn)\n",
    "        self.n=0\n",
    "    def insert(self,x):\n",
    "        assert self.n<len(self.a)\n",
    "        self.a[self.n]=x    \n",
    "        trepar(self.a,self.n)\n",
    "        self.n+=1       \n",
    "    def extract_max(self):\n",
    "        assert self.n>0\n",
    "        x=self.a[0] # esta variable lleva el máximo, el casillero 0 queda vacante\n",
    "        self.n-=1   # achicamos el heap\n",
    "        self.a[0]=self.a[self.n] # movemos el elemento sobrante hacia el casillero vacante\n",
    "        hundir(self.a,0,self.n)\n",
    "        return x\n",
    "    def modificar(self, k, x): #Implementar esta función\n",
    "        pass\n",
    "    def imprimir(self):\n",
    "        print(self.a[0:self.n])"
   ]
  },
  {
   "cell_type": "code",
   "execution_count": null,
   "metadata": {},
   "outputs": [],
   "source": [
    "a=Heap(20)\n",
    "a.insert(55)\n",
    "a.insert(50)\n",
    "a.insert(70)\n",
    "a.insert(12)\n",
    "a.insert(36)\n",
    "a.insert(10)\n",
    "a.insert(21)\n",
    "a.insert(24)\n",
    "a.insert(20)\n",
    "a.insert(62)\n",
    "a.imprimir()\n",
    "a.modificar(4,65)\n",
    "a.imprimir()\n",
    "a.modificar(3,15)\n",
    "a.imprimir()"
   ]
  }
 ],
 "metadata": {
  "kernelspec": {
   "display_name": "Python 3",
   "language": "python",
   "name": "python3"
  },
  "language_info": {
   "codemirror_mode": {
    "name": "ipython",
    "version": 3
   },
   "file_extension": ".py",
   "mimetype": "text/x-python",
   "name": "python",
   "nbconvert_exporter": "python",
   "pygments_lexer": "ipython3",
   "version": "3.6.9"
  }
 },
 "nbformat": 4,
 "nbformat_minor": 4
}
