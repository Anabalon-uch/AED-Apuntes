{
  "nbformat": 4,
  "nbformat_minor": 0,
  "metadata": {
    "kernelspec": {
      "display_name": "Python 3",
      "language": "python",
      "name": "python3"
    },
    "language_info": {
      "codemirror_mode": {
        "name": "ipython",
        "version": 3
      },
      "file_extension": ".py",
      "mimetype": "text/x-python",
      "name": "python",
      "nbconvert_exporter": "python",
      "pygments_lexer": "ipython3",
      "version": "3.6.9"
    },
    "colab": {
      "provenance": [],
      "collapsed_sections": []
    }
  },
  "cells": [
    {
      "cell_type": "markdown",
      "metadata": {
        "id": "IFb3ZjfgPzRZ"
      },
      "source": [
        "### Ejercicio 7.1 (Quicksort con mediana de 3)\n",
        "\n",
        "Modifique el algoritmo Quicksort para que en la fase de partición utilice como pivote a la mediana de 3 elementos elegidos al azar.\n",
        "\n",
        "Para esto, se recomienda modificar el algoritmo de partición de modo que seleccione 3 elementos al azar en el rango $i..j$ y los ordene, dejando en $a[i]$ el mínimo de los 3, en $a[i+1]$ la mediana de los 3 y en $a[j]$ el máximo de los 3. Luego, se aplica el algoritmo de partición ya conocido al segmento $a[i+2],\\ldots,a[j-1]$, con $a[i+1]$ como pivote. Al terminar, el pivote se mueve al centro y se retorna su posición.\n",
        "\n",
        "Otro cambio que se debe hacer es tratar los casos de arreglos de tamaño $0$, $1$ y $2$ como casos de borde, y aplicar ``qsort`` recursivo solo a arreglos de tamaño mayor o igual a 3.\n",
        "\n",
        "En el siguiente recuadro escriba su algoritmo modificado y luego ejecute las instrucciones de prueba del recuadro siguiente."
      ]
    },
    {
      "cell_type": "code",
      "metadata": {
        "collapsed": true,
        "id": "rik8LuA-PzRl"
      },
      "source": [
        "def quicksort3(a):\n",
        "  qsort(a,0,len(a)-1)\n",
        "\n",
        "#Esta es la versión del apunte que deberá modificar\n",
        "def qsort(a,i,j): # ordena a[i],...,a[j]\n",
        "  if (j-i)<3:\n",
        "    #Añadir casos de borde\n",
        "  else:\n",
        "    k=particionMedianaDe3(a,i,j)\n",
        "    qsort(a,i,k-1)\n",
        "    qsort(a,k+1,j)\n",
        "\n",
        "#Implementar esta función de acuerdo al enunciado\n",
        "def particionMedianaDe3(a,i,j): # particiona a[i],...,a[j], retorna posición del pivote\n",
        "  pass"
      ],
      "execution_count": null,
      "outputs": []
    },
    {
      "cell_type": "code",
      "metadata": {
        "collapsed": true,
        "id": "5rewrA-6PzRp"
      },
      "source": [
        "import numpy as np\n",
        "a = np.random.random(12)\n",
        "print(a)\n",
        "chequea_orden(a)\n",
        "quicksort3(a)\n",
        "print(a)\n",
        "chequea_orden(a)"
      ],
      "execution_count": null,
      "outputs": []
    },
    {
      "cell_type": "markdown",
      "metadata": {
        "id": "LvgjZnDxPzRs"
      },
      "source": [
        "---"
      ]
    },
    {
      "cell_type": "markdown",
      "metadata": {
        "id": "WwgOL2wJPzRu"
      },
      "source": [
        "### Ejercicio 7.2 (Radix Sort)\n",
        "\n",
        "Ordene el conjunto\n",
        "\n",
        "```\n",
        "    73895\n",
        "    93754 \n",
        "    82149\n",
        "    99046\n",
        "    14853\n",
        "    94171\n",
        "    54963\n",
        "    70471\n",
        "    80564\n",
        "    66496\n",
        "```\n",
        "\n",
        "usando Radix Sort. Muestre el estado del conjunto después cada pasada (una pasada consiste en la separación en grupos de acuerdo a los dígitos presentes en la columna que se está procesando, seguida de la concatenación de los grupos resultantes). Recuerde que las columnas se procesan de derecha a izquierda y que a igualdad de valores, se debe preservar el orden original.\n",
        "\n",
        "Para entregar su solución y verificar que esté correcta, sustituya los ceros por la información correcta en el siguiente código. Para ayudarle a empezar, se entrega el resultado después de la primera pasada."
      ]
    },
    {
      "cell_type": "code",
      "source": [
        "import numpy as np\n",
        "\n",
        "# Verifica que la lista 'a' esté ordenada después de haber efectuado 'k' pasadas\n",
        "# Se muestran solo los k dígitos de más a la derecha de cada número\n",
        "def verifica_orden(k,a):\n",
        "  b=[x%(10**k) for x in a]\n",
        "  print(b)\n",
        "  print(\"Ordenado\" if np.all([b[i]<=b[i+1] for i in range(0,len(b) - 1)]) else \"Desordenado\")"
      ],
      "metadata": {
        "id": "Fm8nnPikHMBE"
      },
      "execution_count": null,
      "outputs": []
    },
    {
      "cell_type": "code",
      "source": [
        "verifica_orden(1,[94171,70471,14853,54963,93754,80564,73895,99046,66496,82149])"
      ],
      "metadata": {
        "colab": {
          "base_uri": "https://localhost:8080/"
        },
        "id": "NRdJN-0qLx18",
        "outputId": "b1461478-b37e-4c6c-a887-c2a9e01d72fb"
      },
      "execution_count": null,
      "outputs": [
        {
          "output_type": "stream",
          "name": "stdout",
          "text": [
            "[1, 1, 3, 3, 4, 4, 5, 6, 6, 9]\n",
            "Ordenado\n"
          ]
        }
      ]
    },
    {
      "cell_type": "code",
      "source": [
        "verifica_orden(2,[0,0,0,0,0,0,0,0,0,0])"
      ],
      "metadata": {
        "colab": {
          "base_uri": "https://localhost:8080/"
        },
        "id": "dm1A7IZJL-1y",
        "outputId": "cef9eeb3-98e1-43bb-ab89-5de3e89dc9d1"
      },
      "execution_count": null,
      "outputs": [
        {
          "output_type": "stream",
          "name": "stdout",
          "text": [
            "[0, 0, 0, 0, 0, 0, 0, 0, 0, 0]\n",
            "Ordenado\n"
          ]
        }
      ]
    },
    {
      "cell_type": "code",
      "source": [
        "verifica_orden(3,[0,0,0,0,0,0,0,0,0,0])"
      ],
      "metadata": {
        "colab": {
          "base_uri": "https://localhost:8080/"
        },
        "id": "i4dyJR7VNP8u",
        "outputId": "58a74c9c-7f72-4810-b127-9328142ad639"
      },
      "execution_count": null,
      "outputs": [
        {
          "output_type": "stream",
          "name": "stdout",
          "text": [
            "[0, 0, 0, 0, 0, 0, 0, 0, 0, 0]\n",
            "Ordenado\n"
          ]
        }
      ]
    },
    {
      "cell_type": "code",
      "source": [
        "verifica_orden(4,[0,0,0,0,0,0,0,0,0,0])"
      ],
      "metadata": {
        "colab": {
          "base_uri": "https://localhost:8080/"
        },
        "id": "ceW8d6NePfqO",
        "outputId": "7c2aec32-42e4-43fe-a5e2-b43ae31c3c8d"
      },
      "execution_count": null,
      "outputs": [
        {
          "output_type": "stream",
          "name": "stdout",
          "text": [
            "[0, 0, 0, 0, 0, 0, 0, 0, 0, 0]\n",
            "Ordenado\n"
          ]
        }
      ]
    },
    {
      "cell_type": "code",
      "source": [
        "verifica_orden(5,[0,0,0,0,0,0,0,0,0,0])"
      ],
      "metadata": {
        "colab": {
          "base_uri": "https://localhost:8080/"
        },
        "id": "BAh-gTd5PoFT",
        "outputId": "4e47a9a5-75f7-4c8d-eb71-f458a504cbb3"
      },
      "execution_count": null,
      "outputs": [
        {
          "output_type": "stream",
          "name": "stdout",
          "text": [
            "[0, 0, 0, 0, 0, 0, 0, 0, 0, 0]\n",
            "Ordenado\n"
          ]
        }
      ]
    },
    {
      "cell_type": "markdown",
      "metadata": {
        "id": "nJaIDfJWXcS6"
      },
      "source": [
        "---"
      ]
    },
    {
      "cell_type": "markdown",
      "metadata": {
        "id": "4I7SOOASXfM5"
      },
      "source": [
        "### Ejercicio 7.3 (Merge de listas con repeticiones)\n",
        "\n",
        "Suponga que se desea mezclar dos listas ordenadas de manera ascendente en las cuales puede haber elementos repetidos. Estas listas se representan en forma compacta como una secuencia de tuplas en que para cada elemento se indica su *multiplicidad*, es decir, el número de veces que se repite. Por ejemplo, la lista\n",
        "```\n",
        "[(12,2),(34,1),(56,3),(74,1),(81,1)]\n",
        "```\n",
        "es la representación compacta de la lista\n",
        "```\n",
        "[12,12,34,56,56,56,74,81]\n",
        "```\n",
        "Se pide escribir un método ``merge(a,b)`` que reciba como argumento dos listas compactas ``a`` y ``b`` y retorne el resultado de mezclarlas. El resultado debe estar también en formato compacto.\n",
        "\n",
        "Para esto, usted debe modificar el método ``merge``del apunte, el que aparece a continuación:\n"
      ]
    },
    {
      "cell_type": "code",
      "metadata": {
        "collapsed": true,
        "id": "e9JG0OtwPzRx"
      },
      "source": [
        "def merge(a,b):\n",
        "    i=0\n",
        "    j=0\n",
        "    while i<len(a) or j<len(b):\n",
        "        if j>=len(b) or (i<len(a) and a[i]<=b[j]):\n",
        "            yield a[i]\n",
        "            i=i+1\n",
        "        else:\n",
        "            yield b[j]\n",
        "            j=j+1"
      ],
      "execution_count": null,
      "outputs": []
    },
    {
      "cell_type": "markdown",
      "metadata": {
        "id": "tfbj66JLZQOZ"
      },
      "source": [
        "y luego debe probarlo ejecutando el código siguiente:"
      ]
    },
    {
      "cell_type": "code",
      "metadata": {
        "id": "IgSOo2f4ZZT_"
      },
      "source": [
        "a=[(12,2),(34,1),(56,3),(74,1),(81,1)]\n",
        "b=[(10,3),(12,5),(65,1),(74,1),(90,3)]\n",
        "c=[x for x in merge(a,b)]\n",
        "print(c)"
      ],
      "execution_count": null,
      "outputs": []
    }
  ]
}