{
 "cells": [
  {
   "cell_type": "markdown",
   "metadata": {},
   "source": [
    "### Ejercicio 1.1\n",
    "\n",
    "La función ``maximo`` hace $n-1$ comparaciones de elementos para encontrar el máximo de un conjunto de tamaño $n$.\n"
   ]
  },
  {
   "cell_type": "code",
   "execution_count": 2,
   "metadata": {},
   "outputs": [
    {
     "name": "stdout",
     "output_type": "stream",
     "text": [
      "93\n"
     ]
    }
   ],
   "source": [
    "# Encuentra el máximo de una lista a\n",
    "def maximo(a):\n",
    "    m=a[0]\n",
    "    # Al comenzar cada iteración, se cumple que m==max(a[0],...,a[k-1])\n",
    "    for k in range(1,len(a)):\n",
    "        if a[k]>m:\n",
    "            m=a[k]\n",
    "    return m\n",
    "\n",
    "print(maximo([25, 42, 93, 17, 54, 28]))"
   ]
  },
  {
   "cell_type": "markdown",
   "metadata": {},
   "source": [
    "Supongamos que se desea escribir una función ``minmax`` que al ser llamada con una lista de números, retorne un par ordenado (tupla) ``(min,max)``, con el mínimo y el máximo elemento del conjunto, respectivamente. Escriba a continuación esa función haciendo dos pasadas sobre los datos: una para encontrar el mínimo y otra para encontrar el máximo, y pruébela sobre una lista de ejemplo."
   ]
  },
  {
   "cell_type": "code",
   "execution_count": null,
   "metadata": {},
   "outputs": [],
   "source": [
    "def minmax(a):\n",
    "    # escribir la función aquí\n",
    "    \n",
    "    return(minimo,maximo)\n",
    "\n",
    "# Probarla acá"
   ]
  },
  {
   "cell_type": "markdown",
   "metadata": {},
   "source": [
    "La función anterior debería hacer $2n-2$ comparaciones de elementos ($2n-3$ si se evita comparar el elemento seleccionado en la primera pasada). ¿Será posible encontrar el mínimo y el máximo haciendo muchas menos comparaciones?\n",
    "\n",
    "¡La respuesta es que sí! Veámoslo con un ejemplo. Para simplificar, supongamos que la lista es de largo par:\n",
    "\n",
    "$$\n",
    "[45,21,34,67,55,89,44,12]\n",
    "$$\n",
    "\n",
    "Luego comparemos cada elemento que está en una posición par con su vecino de la derecha, e intercambiémoslos de modo que el par quede en orden ascendente (recuerde que las posiciones comienzan desde cero):\n",
    "\n",
    "$$\n",
    "[21,45,34,67,55,89,12,44]\n",
    "$$\n",
    "\n",
    "Luego hagamos una pasada solo sobre las posiciones pares para encontrar el mínimo ($12$), y otra pasada solo entre las posiciones impares para encontrar el máximo ($89$). ¡Listo!\n",
    "\n",
    "Programe este nuevo algoritmo, pruébelo y diga cuántas comparaciones hace en total:\n",
    "\n",
    "---"
   ]
  },
  {
   "cell_type": "code",
   "execution_count": null,
   "metadata": {},
   "outputs": [],
   "source": [
    "def minmax(a):\n",
    "    # escribir la función aquí\n",
    "    \n",
    "    return(minimo,maximo)\n",
    "\n",
    "# Probarla acá"
   ]
  },
  {
   "cell_type": "markdown",
   "metadata": {},
   "source": [
    "### Ejercicio 1.2\n",
    "\n",
    "Existe un algoritmo alternativo a Hoare, que resulta en una codificación más sencilla. Este algoritmo, debido a **Lomuto**, se basa en el siguiente invariante:\n",
    "\n",
    "![particion-Lomuto](../recursos/particion-Lomuto.png)\n",
    "\n",
    "En este algoritmo, en cada iteración, si $a[j]<p$, se intercambian $a[i]$ con $a[j]$ y se incrementa $i$, porque ahora hay un elemento más en el grupo de los menores que $p$. Después de esto, se incrementa $j$, *incondicionalmente* (¿por qué es correcto hacer eso?).\n",
    "\n",
    "Programe la partición de Lomuto en el recuadro siguiente y pruébela."
   ]
  },
  {
   "cell_type": "code",
   "execution_count": null,
   "metadata": {},
   "outputs": [],
   "source": [
    "def particionLomuto(a,p):\n",
    "    # retorna el punto de corte, el número de elementos <p y la lista particionada\n",
    "    \n",
    "    # escribir acá el algoritmo de partición de Lomuto\n",
    "    \n",
    "    return (p,i,a) "
   ]
  },
  {
   "cell_type": "code",
   "execution_count": null,
   "metadata": {},
   "outputs": [],
   "source": [
    "def verifica_particion(t): # imprime y chequea partición\n",
    "    (p,m,a)=t\n",
    "    # p=punto de corte, m=número de elementos <p, a=lista completa particionada\n",
    "    print(a[0:m],p,a[m:])\n",
    "    print(\"Partición OK\" if (m==0 or max(a[0:m])<p) and (m==len(a) or min(a[m:])>p)\n",
    "          else \"Error\")"
   ]
  },
  {
   "cell_type": "code",
   "execution_count": null,
   "metadata": {},
   "outputs": [],
   "source": [
    "verifica_particion(particionLomuto([73,21,34,98,56,37,77,65,82,15,36],50))"
   ]
  },
  {
   "cell_type": "code",
   "execution_count": null,
   "metadata": {},
   "outputs": [],
   "source": [
    "verifica_particion(particionLomuto([73,21,34,98,56,37,77,65,82,15,36],0))"
   ]
  },
  {
   "cell_type": "code",
   "execution_count": null,
   "metadata": {},
   "outputs": [],
   "source": [
    "verifica_particion(particionLomuto([73,21,34,98,56,37,77,65,82,15,36],100))"
   ]
  },
  {
   "cell_type": "markdown",
   "metadata": {},
   "source": [
    "### Ejercicio 1.3\n",
    "\n",
    "Un polinomio se puede evaluar en tiempo lineal sin necesidad de una variable auxiliar si observamos que $P(x)$ se puede factorizar como:\n",
    "\n",
    "$$\n",
    "P(x) = a_0 +x(a_1+x(\\cdots+x(a_{n-1}+x(a_n))\\cdots))\n",
    "$$\n",
    "\n",
    "Por ejemplo,\n",
    "\n",
    "$$\n",
    "\\begin{align}\n",
    "P(x) &= 5+2x-3x^2+4x^3\\\\\n",
    " &=5+x(2+x(-3+x(4)))\n",
    "\\end{align}\n",
    "$$\n",
    "\n",
    "Programe un algoritmo iterativo que evalúe el polinomio utilizando esta idea. Comience desde el paréntesis más interno y vaya avanzando hacia la izquierda. Indique cuál es el invariante que utiliza. El algoritmo resultante se llama la **Regla de Horner**."
   ]
  },
  {
   "cell_type": "code",
   "execution_count": null,
   "metadata": {},
   "outputs": [],
   "source": [
    "def evalp(a,x):\n",
    "    \"\"\"Evalúa en el punto x el polinomio cuyos coeficientes son a[0], a[1],...\n",
    "    utilizando la Regla de Horner\n",
    "    Retorna el valor calculado\n",
    "    \"\"\"\n",
    "    # Escriba aquí su algoritmo\n",
    "    \n",
    "    return P"
   ]
  },
  {
   "cell_type": "code",
   "execution_count": null,
   "metadata": {},
   "outputs": [],
   "source": [
    "print(evalp([5,2,-3,4],2))"
   ]
  },
  {
   "cell_type": "markdown",
   "metadata": {},
   "source": [
    "### Ejercicio 1.4\n",
    "\n",
    "Se le llama \"Camel Case\" a la convención de escribir una frase sin espacios, pero marcando el inicio de cada palabra poniendo su primera letra en mayúscula. Por ejemplo, la frase\n",
    "```\n",
    "\"  Algoritmos y    estructuras de   datos   \"\n",
    "```\n",
    "transformada a Camel Case queda así:\n",
    "```\n",
    "\"AlgoritmosYEstructurasDeDatos\"\n",
    "```\n",
    "\n",
    "Escriba una función que transforme a Camel Case y pruébela:"
   ]
  },
  {
   "cell_type": "code",
   "execution_count": null,
   "metadata": {},
   "outputs": [],
   "source": [
    "def CamelCase(s):\n",
    "    \"\"\"Retorna un string conteniendo la versión Camel Case del string s\"\"\"\n",
    "    # escriba aquí su algoritmo"
   ]
  },
  {
   "cell_type": "code",
   "execution_count": null,
   "metadata": {},
   "outputs": [],
   "source": [
    "print(CamelCase(\"    Algoritmos y    estructuras de   datos   \"))"
   ]
  },
  {
   "cell_type": "markdown",
   "metadata": {},
   "source": [
    "### Ejercicio 1.5 - Permutaciones\n",
    "\n",
    "Una función recursiva que genera e imprime todas las permutaciones de un arreglo se puede plantear\n",
    "de la siguiente manera:\n",
    "\n",
    "~~~python\n",
    "def permutaciones(x,ini,fin):\n",
    "~~~\n",
    "   genera las permutaciones del arreglo x desde el elemento\n",
    "   con índice ini hasta el elemento con índice fin  \n",
    "   \n",
    "- Si $ini$ es igual a $fin$ implica que se pide la permutación de un solo elemento, y en ese momento se imprime\n",
    "  todo el contenido del arreglo\n",
    "- De lo contrario, para todos los elementos $x[i]$ con $i$ desde $ini$ hasta $fin$ ($fin$ incluido) se hace lo siguiente:\n",
    "                 . se intercambia el valor del i-ésimo elemento con el inicial\n",
    "                 . se llama recursivamente a la función permutaciones con el \n",
    "                    índice del primer elemento incrementado: permutaciones(x, ini+1, fin)\n",
    "                 . Se vuelven a restaurar los valores del elemento inicial con el i-ésimo\n",
    "\n",
    "Implemente la función \"permutaciones\" que imprima todas las permutaciones de un arreglo de entrada. Probar su función con arreglos de tamaño 1, 3 y 5."
   ]
  },
  {
   "cell_type": "markdown",
   "metadata": {},
   "source": [
    "### Ejercicio 1.6 - Generando números binarios\n",
    "Una función recursiva que genera e imprime todos los números binarios de ``n`` dígitos se puede plantear con un encabezado de la siguiente manera: "
   ]
  },
  {
   "cell_type": "code",
   "execution_count": null,
   "metadata": {},
   "outputs": [],
   "source": [
    "def genera_binarios(a,k,n):\n",
    "    #Aquí debes definir tu código\n",
    "    "
   ]
  },
  {
   "cell_type": "markdown",
   "metadata": {},
   "source": [
    "Donde ``a`` es un arreglo que contiene los unos y ceros de los números que se van generando, el cual se va rellenando con valores de izquierda a derecha, ``k`` es el grado de avance en el proceso de generación (más precisamente cuantos dígitos se han generado hasta esta llamada) y ``n`` es la cantidad total de dígitos que deben generarse (``n = len(a)``). Por lo tanto ``n-k`` es la cantidad de dígitos que faltan por generar. Esta función se llama la primera vez de la siguiente manera:"
   ]
  },
  {
   "cell_type": "code",
   "execution_count": null,
   "metadata": {},
   "outputs": [],
   "source": [
    "import numpy as np\n",
    "n = 4\n",
    "a = np.empty(n,dtype=int) # arreglo de largo n sin inicializar\n",
    "genera_binarios(a,0,len(a))"
   ]
  },
  {
   "cell_type": "markdown",
   "metadata": {},
   "source": [
    "Este código debe generar la salida:\n",
    "\n",
    "[0 0 0 0] \n",
    "\n",
    "[0 0 0 1]\n",
    "\n",
    "[0 0 1 0]\n",
    "\n",
    "[0 0 1 1]\n",
    "\n",
    "[0 1 0 0]\n",
    "\n",
    "[0 1 0 1]\n",
    "\n",
    "[0 1 1 0]\n",
    "\n",
    "[0 1 1 1]\n",
    "\n",
    "[1 0 0 0]\n",
    "\n",
    "[1 0 0 1]\n",
    "\n",
    "[1 0 1 0]\n",
    "\n",
    "[1 0 1 1]\n",
    "\n",
    "[1 1 0 0]\n",
    "\n",
    "[1 1 0 1]\n",
    "\n",
    "[1 1 1 0]\n",
    "\n",
    "[1 1 1 1]"
   ]
  },
  {
   "cell_type": "markdown",
   "metadata": {},
   "source": [
    "Se le pide que escriba las instrucciones de la función ``genera_binarios`` de acuerdo al siguiente algoritmo: \n",
    "\n",
    "---\n",
    "\n",
    "\n",
    "\n",
    "* si el valor de ``k`` es igual a ``n``, ya se han generado todos los dígitos por\n",
    "    lo cual se imprime el arreglo en pantalla ``(print(a))``\n",
    "* si no, se hacen dos cosas:  \n",
    "    - se pone un 0 en la ``k``-ésima posicion y se llama recursivamente \n",
    "      a la función para que genere los dígitos restantes \n",
    "    - luego se pone un 1 en la misma ``k``-ésima posición (reemplazando el 0) y se\n",
    "      llama recursivamente a la función para que genere los dígitos restantes\n",
    "\n",
    "Pruebe su función con para el caso ``n=4``. Asegúrese de que genere el mismo resultado que el que aparece en el enunciado. \n"
   ]
  }
 ],
 "metadata": {
  "kernelspec": {
   "display_name": "Python 3",
   "language": "python",
   "name": "python3"
  },
  "language_info": {
   "codemirror_mode": {
    "name": "ipython",
    "version": 3
   },
   "file_extension": ".py",
   "mimetype": "text/x-python",
   "name": "python",
   "nbconvert_exporter": "python",
   "pygments_lexer": "ipython3",
   "version": "3.6.9"
  }
 },
 "nbformat": 4,
 "nbformat_minor": 4
}
