{
 "cells": [
  {
   "cell_type": "markdown",
   "metadata": {},
   "source": [
    "### Ejercicio 6.1 (Chequear si un árbol es AVL en tiempo lineal)\n",
    "\n",
    "En este ejercicio usted debe modificar la implementación dada para asegurar que cada nodo del árbol se visite solo una vez, asegurando de esta manera que el costo de determinar si un árbol es AVL sea $\\Theta(n)$.\n",
    "\n",
    "Para esto, usted debe fusionar las funciones ``altura`` y ``es_AVL``en una sola función ``altura_AVL``, que retorne una tupla $(h,a)$, donde $h$ es la altura y $a$ es un booleano que dice si el árbol es AVL. De esta manera, al invocar la función se tiene de una sola vez toda la información necesaria."
   ]
  },
  {
   "cell_type": "code",
   "execution_count": null,
   "metadata": {},
   "outputs": [],
   "source": [
    "class Nodoi:\n",
    "    def __init__(self, izq, info, der):\n",
    "        self.izq=izq\n",
    "        self.info=info\n",
    "        self.der=der\n",
    "    \n",
    "    def altura(self):\n",
    "        return 1+max(self.izq.altura(),self.der.altura())\n",
    "    \n",
    "    def es_AVL(self):\n",
    "        return abs(self.izq.altura()-self.der.altura())<=1 \\\n",
    "                and self.izq.es_AVL() and self.der.es_AVL()\n",
    "        \n",
    "    def __str__(self):\n",
    "        return \"(\"+self.izq.__str__()+str(self.info)+self.der.__str__()+\")\"\n",
    "\n",
    "class Nodoe:\n",
    "    def __init__(self):\n",
    "        pass\n",
    "\n",
    "    def altura(self):\n",
    "        return 0\n",
    "    \n",
    "    def es_AVL(self):\n",
    "        return True\n",
    "    \n",
    "    def __str__(self):\n",
    "        return\"☐\"\n",
    "\n",
    "class Arbol:\n",
    "    def __init__(self,raiz=Nodoe()):\n",
    "        self.raiz=raiz     \n",
    "    \n",
    "    def es_AVL(self):\n",
    "        return self.raiz.es_AVL()\n",
    "    \n",
    "    def __str__(self):        \n",
    "        return self.raiz.__str__()"
   ]
  },
  {
   "cell_type": "markdown",
   "metadata": {},
   "source": [
    "A continuación, pruébela con los dos árboles utilizados anteriormente:"
   ]
  },
  {
   "cell_type": "code",
   "execution_count": null,
   "metadata": {},
   "outputs": [],
   "source": [
    "a1=Arbol(Nodoi(Nodoi(Nodoe(),1,Nodoe()),\n",
    "            2,\n",
    "            Nodoi(Nodoe(),3,Nodoi(Nodoe(),4,Nodoe()))))\n",
    "print(a1)\n",
    "print(a1.es_AVL())"
   ]
  },
  {
   "cell_type": "code",
   "execution_count": null,
   "metadata": {},
   "outputs": [],
   "source": [
    "a2=Arbol(Nodoi(Nodoi(Nodoe(),1,Nodoe()),\n",
    "            2,\n",
    "            Nodoi(Nodoe(),3,Nodoi(Nodoe(),4,Nodoi(Nodoe(),5,Nodoe())))))\n",
    "print(a2)\n",
    "print(a2.es_AVL())"
   ]
  },
  {
   "cell_type": "markdown",
   "metadata": {},
   "source": [
    "---"
   ]
  },
  {
   "cell_type": "markdown",
   "metadata": {},
   "source": [
    "### Ejercicio 6.2 (Número de operaciones *split*)\n",
    "\n",
    "Supongamos que comenzamos con un árbol 2-3 vacío y a continuación insertamos $n$ llaves. El objetivo de este ejercicio es calcular cuántas operaciones *split* se pueden llegar a ejecutar a lo largo de este proceso, en el peor caso.\n",
    "\n",
    "Una manera de acotar este número de operaciones es ver que una inserción puede gatillar la ejecución de $O(\\log{n})$ operaciones *split*, y como son $n$ inserciones, el número total de operaciones *split* es $O(n\\log{n})$.\n",
    "\n",
    "Lo anterior es una cota superior, pero en realidad está muy sobredimensionada.\n",
    "\n",
    "Demuestre que el número total de operaciones *split* ejecutadas al insertar $n$ llaves comenzando con un árbol 2-3 vacío es $O(n)$ en el peor caso. Escriba su demostración en el siguiente recuadro.\n",
    "\n",
    "*Indicación*: Considere el impacto de un *split* sobre el número de nodos del árbol."
   ]
  },
  {
   "cell_type": "markdown",
   "metadata": {},
   "source": [
    "#### Demostración:"
   ]
  },
  {
   "cell_type": "markdown",
   "metadata": {},
   "source": [
    "---"
   ]
  },
  {
   "cell_type": "markdown",
   "metadata": {},
   "source": [
    "### Ejercicio 6.3 (Inserciones en una tabla de hashing con Linear Probing)\n",
    "\n",
    "Suponga que se tiene una tabla de hashing con Linear Probing, de tamaño 10, inicialmente vacía, con la función de hashing $h(x) = x \\bmod 10$ (por ejemplo, $h(64)=4$). Muestre en la siguiente tabla el resultado de insertar (a mano) la siguiente secuencia de llaves:\n",
    "\n",
    "```\n",
    "34, 59, 45, 27, 14, 22, 75, 25\n",
    "```"
   ]
  },
  {
   "cell_type": "markdown",
   "metadata": {},
   "source": [
    "![EjercicioLinearProbing](../recursos/EjercicioLinearProbing.png)\n",
    "\n",
    "Utilizaremos la siguiente función para ver si su respuesta está correcta:"
   ]
  },
  {
   "cell_type": "code",
   "execution_count": null,
   "metadata": {},
   "outputs": [],
   "source": [
    "def chequea_tabla(lista):\n",
    "    h=0\n",
    "    for x in lista:\n",
    "        h = (h*100+x) % 100000007\n",
    "    print(\"OK\" if h==60375958 else \"Error\")"
   ]
  },
  {
   "cell_type": "markdown",
   "metadata": {},
   "source": [
    "En el siguiente recuadro reemplace la lista de ceros por la lista de los elementos resultantes en la tabla. Si un casillero queda vacío, escriba un cero."
   ]
  },
  {
   "cell_type": "code",
   "execution_count": null,
   "metadata": {},
   "outputs": [],
   "source": [
    "chequea_tabla([0,0,0,0,0,0,0,0,0,0])"
   ]
  }
 ],
 "metadata": {
  "kernelspec": {
   "display_name": "Python 3",
   "language": "python",
   "name": "python3"
  },
  "language_info": {
   "codemirror_mode": {
    "name": "ipython",
    "version": 3
   },
   "file_extension": ".py",
   "mimetype": "text/x-python",
   "name": "python",
   "nbconvert_exporter": "python",
   "pygments_lexer": "ipython3",
   "version": "3.6.9"
  }
 },
 "nbformat": 4,
 "nbformat_minor": 4
}
