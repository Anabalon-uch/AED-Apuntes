{
 "cells": [
  {
   "cell_type": "markdown",
   "metadata": {},
   "source": [
    "### Ejercicio 6.1 (Agregar método ``min`` a un ABB)\n",
    "\n",
    "El objetivo de este ejercicio es que usted agregue un método ``min`` a un árbol de búsqueda binaria. Este método debe entregar un puntero al nodo interno que contiene el elemento mínimo en un ABB. Para simplificar, usted puede suponer que el árbol siempre contiene al menos una llave."
   ]
  },
  {
   "cell_type": "code",
   "execution_count": null,
   "metadata": {},
   "outputs": [],
   "source": [
    "!pip install aed-utilities\n",
    "\n",
    "import aed_utilities as aed"
   ]
  },
  {
   "cell_type": "code",
   "execution_count": null,
   "metadata": {},
   "outputs": [],
   "source": [
    "class Nodoi:\n",
    "    def __init__(self, izq, info, der):\n",
    "        self.izq=izq\n",
    "        self.info=info\n",
    "        self.der=der\n",
    "\n",
    "class Nodoe:\n",
    "    def __init__(self):\n",
    "        pass\n",
    "\n",
    "class Arbol:\n",
    "    def __init__(self,raiz=Nodoe()):\n",
    "        self.raiz=raiz\n",
    "\n",
    "    def min(self):\n",
    "        return self.raiz # reemplace esta instrucción por una implementación correcta de \"min\"\n",
    "\n",
    "    def insert(self,x):\n",
    "        if isinstance(self.raiz, Nodoe):\n",
    "            self.raiz=Nodoi(Nodoe(),x,Nodoe())\n",
    "            return\n",
    "        p=self.raiz\n",
    "        while True:\n",
    "            assert x!=p.info\n",
    "            if x<p.info:\n",
    "                if isinstance(p.izq, Nodoe):\n",
    "                    p.izq=Nodoi(Nodoe(),x,Nodoe())\n",
    "                    return\n",
    "                p=p.izq\n",
    "            else: # x>p.info\n",
    "                if isinstance(p.der, Nodoe):\n",
    "                    p.der=Nodoi(Nodoe(),x,Nodoe())\n",
    "                    return\n",
    "                p=p.der\n",
    "\n",
    "    def search(self,x):\n",
    "        p=self.raiz\n",
    "        while not isinstance(p, Nodoe):\n",
    "            if x==p.info:\n",
    "                return p\n",
    "            p=p.izq if x<p.info else p.der\n",
    "        return None\n",
    "\n",
    "    def dibujar(self):\n",
    "      btd = aed.BinaryTreeDrawer(fieldData=\"info\", fieldLeft=\"izq\", fieldRight=\"der\", classNone=Nodoe, drawNull=True)\n",
    "      btd.draw_tree(self, \"raiz\")"
   ]
  },
  {
   "cell_type": "markdown",
   "metadata": {},
   "source": [
    "A continuación construimos un árbol para hacer pruebas y definimos una función para chequear que la respuesta esté correcta:"
   ]
  },
  {
   "cell_type": "code",
   "execution_count": null,
   "metadata": {},
   "outputs": [],
   "source": [
    "a=Arbol(\n",
    "    Nodoi(\n",
    "        Nodoi(\n",
    "            Nodoi(Nodoe(),15,Nodoe()),\n",
    "            20,\n",
    "            Nodoi(\n",
    "                Nodoi(Nodoe(),30,Nodoe()),\n",
    "                35,\n",
    "                Nodoe()\n",
    "            )\n",
    "        ),\n",
    "        42,\n",
    "        Nodoi(\n",
    "            Nodoi(\n",
    "                Nodoi(\n",
    "                    Nodoi(Nodoe(),65,Nodoe()),\n",
    "                    72,\n",
    "                    Nodoi(Nodoe(),81,Nodoe())\n",
    "                ),\n",
    "                90,\n",
    "                Nodoe()\n",
    "            ),\n",
    "            95,\n",
    "            Nodoe()\n",
    "        )\n",
    "       )\n",
    ")\n",
    "\n",
    "def chequear(x,x_correcta):\n",
    "  print(\"Respuesta:\",x,\"CORRECTA\" if x==x_correcta else \"ERROR\")"
   ]
  },
  {
   "cell_type": "markdown",
   "metadata": {},
   "source": [
    "A continuación ejecute las dos pruebas siguientes:"
   ]
  },
  {
   "cell_type": "code",
   "execution_count": null,
   "metadata": {},
   "outputs": [],
   "source": [
    "a.dibujar()\n",
    "chequear(a.min().info,15)"
   ]
  },
  {
   "cell_type": "code",
   "execution_count": null,
   "metadata": {},
   "outputs": [],
   "source": [
    "a.insert(10)\n",
    "a.dibujar()\n",
    "chequear(a.min().info,10)"
   ]
  },
  {
   "attachments": {},
   "cell_type": "markdown",
   "metadata": {},
   "source": [
    "### Ejercicio 6.2 (Chequear si un árbol es AVL en tiempo lineal)\n",
    "\n",
    "En este ejercicio usted debe modificar la implementación dada para asegurar que cada nodo del árbol se visite solo una vez, asegurando de esta manera que el costo de determinar si un árbol es AVL sea $\\Theta(n)$.\n",
    "\n",
    "Para esto, usted debe fusionar las funciones ``altura`` y ``es_AVL``en una sola función ``altura_AVL``, que retorne una tupla $(h,a)$, donde $h$ es la altura y $a$ es un booleano que dice si el árbol es AVL. De esta manera, al invocar la función se tiene de una sola vez toda la información necesaria."
   ]
  },
  {
   "cell_type": "code",
   "execution_count": null,
   "metadata": {
    "collapsed": true
   },
   "outputs": [],
   "source": [
    "class Nodoi:\n",
    "    def __init__(self, izq, info, der):\n",
    "        self.izq=izq\n",
    "        self.info=info\n",
    "        self.der=der\n",
    "    \n",
    "    def altura(self):\n",
    "        return 1+max(self.izq.altura(),self.der.altura())\n",
    "    \n",
    "    def es_AVL(self):\n",
    "        return abs(self.izq.altura()-self.der.altura())<=1 \\\n",
    "                and self.izq.es_AVL() and self.der.es_AVL()\n",
    "        \n",
    "    def __str__(self):\n",
    "        return \"(\"+self.izq.__str__()+str(self.info)+self.der.__str__()+\")\"\n",
    "\n",
    "class Nodoe:\n",
    "    def __init__(self):\n",
    "        pass\n",
    "\n",
    "    def altura(self):\n",
    "        return 0\n",
    "    \n",
    "    def es_AVL(self):\n",
    "        return True\n",
    "    \n",
    "    def __str__(self):\n",
    "        return\"☐\"\n",
    "\n",
    "class Arbol:\n",
    "    def __init__(self,raiz=Nodoe()):\n",
    "        self.raiz=raiz     \n",
    "    \n",
    "    def es_AVL(self):\n",
    "        return self.raiz.es_AVL()\n",
    "    \n",
    "    def __str__(self):        \n",
    "        return self.raiz.__str__()"
   ]
  },
  {
   "attachments": {},
   "cell_type": "markdown",
   "metadata": {},
   "source": [
    "A continuación, pruébela con los dos árboles utilizados anteriormente:"
   ]
  },
  {
   "cell_type": "code",
   "execution_count": null,
   "metadata": {
    "collapsed": true
   },
   "outputs": [],
   "source": [
    "a1=Arbol(Nodoi(Nodoi(Nodoe(),1,Nodoe()),\n",
    "            2,\n",
    "            Nodoi(Nodoe(),3,Nodoi(Nodoe(),4,Nodoe()))))\n",
    "print(a1)\n",
    "print(a1.es_AVL())"
   ]
  },
  {
   "cell_type": "code",
   "execution_count": null,
   "metadata": {
    "collapsed": true
   },
   "outputs": [],
   "source": [
    "a2=Arbol(Nodoi(Nodoi(Nodoe(),1,Nodoe()),\n",
    "            2,\n",
    "            Nodoi(Nodoe(),3,Nodoi(Nodoe(),4,Nodoi(Nodoe(),5,Nodoe())))))\n",
    "print(a2)\n",
    "print(a2.es_AVL())"
   ]
  },
  {
   "attachments": {},
   "cell_type": "markdown",
   "metadata": {},
   "source": [
    "---"
   ]
  },
  {
   "attachments": {},
   "cell_type": "markdown",
   "metadata": {},
   "source": [
    "### Ejercicio 6.3 (Número de operaciones *split*)\n",
    "\n",
    "Supongamos que comenzamos con un árbol 2-3 vacío y a continuación insertamos $n$ llaves. El objetivo de este ejercicio es calcular cuántas operaciones *split* se pueden llegar a ejecutar a lo largo de este proceso, en el peor caso.\n",
    "\n",
    "Una manera de acotar este número de operaciones es ver que una inserción puede gatillar la ejecución de $O(\\log{n})$ operaciones *split*, y como son $n$ inserciones, el número total de operaciones *split* es $O(n\\log{n})$.\n",
    "\n",
    "Lo anterior es una cota superior, pero en realidad está muy sobredimensionada.\n",
    "\n",
    "Demuestre que el número total de operaciones *split* ejecutadas al insertar $n$ llaves comenzando con un árbol 2-3 vacío es $O(n)$ en el peor caso. Escriba su demostración en el siguiente recuadro.\n",
    "\n",
    "*Indicación*: Considere el impacto de un *split* sobre el número de nodos del árbol."
   ]
  },
  {
   "attachments": {},
   "cell_type": "markdown",
   "metadata": {},
   "source": [
    "#### Demostración:"
   ]
  },
  {
   "attachments": {},
   "cell_type": "markdown",
   "metadata": {},
   "source": [
    "---"
   ]
  },
  {
   "attachments": {},
   "cell_type": "markdown",
   "metadata": {},
   "source": [
    "### Ejercicio 6.4 : Búsqueda en árboles 2-3"
   ]
  },
  {
   "attachments": {},
   "cell_type": "markdown",
   "metadata": {},
   "source": [
    "El objetivo de esta tarea es que usted implemente la búsqueda (\"search\") en árboles 2-3 (sólo la búsqueda, no la inserción). \n",
    "Para ello complete el código que implementa la función ``search`` en tres tipos de nodos:``Nodo2``, que almacena un nodo que tiene 2 hijos, ``Nodo3``, que tiene 3 y ``Nodoe`` que implementa un nodo externo. Además, la función ``search`` de la clase ``Arbol23`` está dada en el enunciado. En todos los casos, la función debe retornar un puntero al nodo que contiene la llave buscada en caso de ser exitosa, o ``None`` si es infructuosa. Usted puede decidir si usa un enfoque recursivo o no para implementarlo. \n",
    "\n",
    "En varias partes se ha rellenado con código provisorio, para que compile. Usted debe reemplazar y completar todo lo que sea necesario para que todo funcione.\n",
    "\n",
    "Para inspirarse puede ver operación de búsqueda ``search`` en un árbol binario en https://colab.research.google.com/github/ivansipiran/AED-Apuntes/blob/main/06_Diccionarios.ipynb#scrollTo=KTlzPSiLGRgy"
   ]
  },
  {
   "cell_type": "code",
   "execution_count": null,
   "metadata": {},
   "outputs": [],
   "source": [
    "class Nodo2:\n",
    "    def __init__(self, izq, info, der):\n",
    "        self.izq=izq\n",
    "        self.info=info\n",
    "        self.der=der\n",
    "    \n",
    "    def string(self):\n",
    "      return \"Nodo2(\"+str(self.info)+\")\"\n",
    "         \n",
    "    #Implementa esta función\n",
    "    def search(self,x):\n",
    "        pass\n",
    "        \n",
    "class Nodo3:\n",
    "    def __init__(self, izq, info1, med, info2, der):\n",
    "        self.izq=izq\n",
    "        self.info1=info1\n",
    "        self.med=med\n",
    "        self.info2=info2\n",
    "        self.der=der\n",
    "    \n",
    "    def string(self):\n",
    "      return \"Nodo3(\"+str(self.info1)+\",\"+str(self.info2)+\")\"\n",
    "        \n",
    "    #Implementa esta función\n",
    "    def search(self,x):\n",
    "        pass\n",
    "        \n",
    "class Nodoe:\n",
    "    def __init__(self):\n",
    "        pass\n",
    "    \n",
    "    #Implementa esta función\n",
    "    def search(self,x):\n",
    "        pass\n",
    "    \n",
    "    def __str__(self):\n",
    "      return \"☐\"\n",
    "\n",
    "class Arbol23:\n",
    "    def __init__(self,raiz=Nodoe()):\n",
    "        self.raiz=raiz     \n",
    "        \n",
    "    def search(self,x):\n",
    "        return self.raiz.search(x)"
   ]
  },
  {
   "attachments": {},
   "cell_type": "markdown",
   "metadata": {},
   "source": [
    "Para probar este código, vamos a construir \"a mano\" el árbol 2-3 que aparece en el apunte, y luego hay que ejecutar las búsquedas que se indican, para probar que su solución esté correcta."
   ]
  },
  {
   "cell_type": "code",
   "execution_count": null,
   "metadata": {},
   "outputs": [],
   "source": [
    "a=Nodo3(Nodo2(Nodoe(),10,Nodoe()),25,Nodo3(Nodoe(),32,Nodoe(),48,Nodoe()),57,Nodo2(Nodoe(),74,Nodoe()))"
   ]
  },
  {
   "attachments": {},
   "cell_type": "markdown",
   "metadata": {},
   "source": [
    "### Búsqueda de valores en un Árbol 2-3"
   ]
  },
  {
   "cell_type": "code",
   "execution_count": null,
   "metadata": {},
   "outputs": [],
   "source": [
    "busqueda1=a.search(25)\n",
    "assert busqueda1.string() == \"Nodo3(25,57)\"\n",
    "\n",
    "busqueda2=a.search(74)\n",
    "assert busqueda2.string() == \"Nodo2(74)\"\n",
    "\n",
    "\n",
    "busqueda3=a.search(7)\n",
    "assert busqueda3 == None\n",
    "\n",
    "print(\"pasó los tests\")"
   ]
  },
  {
   "attachments": {},
   "cell_type": "markdown",
   "metadata": {},
   "source": [
    "### Ejercicio 6.5 (Inserciones en una tabla de hashing con Linear Probing)\n",
    "\n",
    "Suponga que se tiene una tabla de hashing con Linear Probing, de tamaño 10, inicialmente vacía, con la función de hashing $h(x) = x \\bmod 10$ (por ejemplo, $h(64)=4$). Muestre en la siguiente tabla el resultado de insertar (a mano) la siguiente secuencia de llaves:\n",
    "\n",
    "```\n",
    "34, 59, 45, 27, 14, 22, 75, 25\n",
    "```"
   ]
  },
  {
   "attachments": {},
   "cell_type": "markdown",
   "metadata": {},
   "source": [
    "![EjercicioLinearProbing](../recursos/EjercicioLinearProbing.png)\n",
    "\n",
    "Utilizaremos la siguiente función para ver si su respuesta está correcta:"
   ]
  },
  {
   "cell_type": "code",
   "execution_count": null,
   "metadata": {
    "collapsed": true
   },
   "outputs": [],
   "source": [
    "def chequea_tabla(lista):\n",
    "    h=0\n",
    "    for x in lista:\n",
    "        h = (h*100+x) % 100000007\n",
    "    print(\"OK\" if h==60375958 else \"Error\")"
   ]
  },
  {
   "attachments": {},
   "cell_type": "markdown",
   "metadata": {},
   "source": [
    "En el siguiente recuadro reemplace la lista de ceros por la lista de los elementos resultantes en la tabla. Si un casillero queda vacío, escriba un cero."
   ]
  },
  {
   "cell_type": "code",
   "execution_count": null,
   "metadata": {
    "collapsed": true
   },
   "outputs": [],
   "source": [
    "chequea_tabla([0,0,0,0,0,0,0,0,0,0])"
   ]
  },
  {
   "attachments": {},
   "cell_type": "markdown",
   "metadata": {},
   "source": [
    "---"
   ]
  },
  {
   "attachments": {},
   "cell_type": "markdown",
   "metadata": {},
   "source": [
    "### Ejercicio 6.6 (Operaciones en un *trie*)\n",
    "\n",
    "Consideremos el conjunto de llaves que aparece en el apunte\n",
    "\n",
    "```\n",
    "A = 00100\n",
    "B = 01000\n",
    "C = 01111\n",
    "D = 11000\n",
    "E = 11101\n",
    "```\n",
    "\n",
    "con las cuales se construye este *trie*:\n",
    "\n",
    "![trie](https://github.com/ivansipiran/AED-Apuntes/blob/main/recursos/trie.png?raw=1)\n",
    "\n",
    "A continuación ejecute (a mano) cada una de las operaciones que se indican, operando siempre sobre el árbol original, y dibuje en cada caso el árbol resultante:\n",
    "\n",
    "1. Inserte ``F = 10110``\n",
    "\n",
    "2. Inserte ``G = 00110``\n",
    "\n",
    "3. Elimine ``E = 11101``"
   ]
  },
  {
   "attachments": {},
   "cell_type": "markdown",
   "metadata": {},
   "source": []
  }
 ],
 "metadata": {
  "kernelspec": {
   "display_name": "Python 3",
   "language": "python",
   "name": "python3"
  },
  "language_info": {
   "codemirror_mode": {
    "name": "ipython",
    "version": 3
   },
   "file_extension": ".py",
   "mimetype": "text/x-python",
   "name": "python",
   "nbconvert_exporter": "python",
   "pygments_lexer": "ipython3",
   "version": "3.6.3"
  }
 },
 "nbformat": 4,
 "nbformat_minor": 4
}
