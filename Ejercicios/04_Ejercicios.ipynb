{
 "cells": [
  {
   "cell_type": "markdown",
   "metadata": {},
   "source": [
    "### Ejercicio 4.1\n",
    "\n",
    "Demostrar que $T(n) = \\lceil \\log_2{(n+1)} \\rceil$, en el caso de la búsqueda binaria."
   ]
  },
  {
   "cell_type": "markdown",
   "metadata": {},
   "source": [
    "### Ejercicio 4.2\n",
    "Escriba una función que pueda ser invocada como ``L.reversar()``, que al ejecutarse re-enlace los nodos de la lista de modo que queden en el orden opuesto al original, en tiempo lineal en el largo de la lista. Esto debe hacerse solo modificando punteros, sin crear nuevos nodos. Escriba a continuación la definición de la clase ``Lista`` incluyendo la función ``reversar``."
   ]
  },
  {
   "cell_type": "code",
   "execution_count": null,
   "metadata": {},
   "outputs": [],
   "source": [
    "import aed_utilities as aed\n",
    "\n",
    "class Nodo:\n",
    "    def __init__(self, info, sgte=None):\n",
    "        self.info=info\n",
    "        self.sgte=sgte\n",
    "        \n",
    "class Lista:\n",
    "    def __init__(self):\n",
    "        self.primero=None\n",
    "        \n",
    "    def insertar_al_inicio(self,info):\n",
    "        self.primero=Nodo(info,self.primero)\n",
    "    \n",
    "    def insertar_despues_de(self,p,info): # inserta después de nodo p\n",
    "        p.sgte=Nodo(info,p.sgte)\n",
    "    \n",
    "    def eliminar_al_inicio(self):\n",
    "        assert self.primero is not None\n",
    "        self.primero=self.primero.sgte\n",
    "    \n",
    "    def eliminar_sgte_de(self,p): # elimina el nodo siguiente de p\n",
    "        assert p.sgte is not None\n",
    "        p.sgte=p.sgte.sgte\n",
    "    \n",
    "    def k_esimo(self,k): # retorna k-esimo nodo, o None si fuera de rango\n",
    "        p=self.primero\n",
    "        j=1\n",
    "        while p is not None:\n",
    "            if j==k:\n",
    "                return p\n",
    "            p=p.sgte\n",
    "            j+=1\n",
    "        return None\n",
    "    \n",
    "    def imprimir(self):\n",
    "        p=self.primero\n",
    "        while p is not None:\n",
    "            print(p.info, end=\" \")\n",
    "            p=p.sgte\n",
    "        print()\n",
    "    \n",
    "    def reversar(self):\n",
    "        #Escribir código aquí\n",
    "\n",
    "    def dibujar(self):\n",
    "      lld = aed.LinkedListDrawer(fieldHeader=\"primero\", fieldData=\"info\", fieldLink=\"sgte\", strHeader=\"primero\")\n",
    "      lld.draw_linked_list(self)"
   ]
  },
  {
   "cell_type": "markdown",
   "metadata": {},
   "source": [
    "Probar su función con este código:"
   ]
  },
  {
   "cell_type": "code",
   "execution_count": null,
   "metadata": {},
   "outputs": [],
   "source": [
    "L=Lista()\n",
    "L.insertar_al_inicio(44)\n",
    "L.insertar_al_inicio(13)\n",
    "L.insertar_al_inicio(65)\n",
    "L.insertar_al_inicio(42)\n",
    "L.imprimir()\n",
    "L.reversar()\n",
    "L.imprimir()"
   ]
  },
  {
   "cell_type": "markdown",
   "metadata": {},
   "source": [
    "A continuación, escriba instrucciones para probar esta función para reversar una lista de largo 0 y una lista de largo 1."
   ]
  },
  {
   "cell_type": "markdown",
   "metadata": {},
   "source": [
    "### Ejercicio 4.3\n",
    "\n",
    "Suponga que por un accidente, o quizás por vandalismo, todos los punteros ``prev`` han sido destruidos. Afortunadamente, los punteros ``sgte`` están intactos. Usted debe escribir primero una función que pueda invocarse como ``L.destruye_prev()`` que remueva todos los punteros ``prev`` de los nodos. Para lograr esto basta con asignar ``None`` a los punteros ``prev`` en cada nodo. A continuación, debe escribir una función que pueda invocarse como ``L.repara_prev`` que reconstruya los punteros faltantes. A continuación se encuentra la definición de la clase ``Lista_doble_enlace`` incluyendo las cabeceras de las funciones ``destruye_prev`` y ``repara_prev`` que usted debe completar. También se entrega un caso de prueba para probar que sus funciones son correctas."
   ]
  },
  {
   "cell_type": "code",
   "execution_count": null,
   "metadata": {},
   "outputs": [],
   "source": [
    "import aed_utilities as aed\n",
    "\n",
    "class Nodo:\n",
    "    def __init__(self, prev, info, sgte):\n",
    "        self.prev=prev\n",
    "        self.info=info\n",
    "        self.sgte=sgte\n",
    "\n",
    "class Lista_doble_enlace:\n",
    "    def __init__(self):\n",
    "        self.cabecera=Nodo(None,0,None)\n",
    "        self.cabecera.prev=self.cabecera\n",
    "        self.cabecera.sgte=self.cabecera\n",
    "    \n",
    "    def insertar_despues_de(self,p,info): # inserta después de nodo p\n",
    "        r=p.sgte\n",
    "        p.sgte=r.prev=Nodo(p,info,r)\n",
    " \n",
    "    def eliminar(self,p): # elimina el nodo p\n",
    "        assert p is not self.cabecera\n",
    "        (p.prev.sgte,p.sgte.prev)=(p.sgte,p.prev)\n",
    "    \n",
    "    def k_esimo(self,k): # retorna k-esimo nodo, o None si fuera de rango\n",
    "        p=self.cabecera\n",
    "        j=0\n",
    "        while True:\n",
    "            if j==k:\n",
    "                return p\n",
    "            p=p.sgte\n",
    "            if p is self.cabecera:\n",
    "                return None\n",
    "            j+=1\n",
    "    \n",
    "    def ascendente(self):\n",
    "        p=self.cabecera.sgte\n",
    "        while p is not self.cabecera:\n",
    "            yield p.info\n",
    "            p=p.sgte\n",
    "\n",
    "    def descendente(self):\n",
    "        p=self.cabecera.prev\n",
    "        while p is not self.cabecera:\n",
    "            yield p.info\n",
    "            p=p.prev\n",
    "    \n",
    "    def destruye_prev(self):\n",
    "        #Define aqui la función para destruir todos los enlaces \"prev\"\n",
    "            \n",
    "    def repara_prev(self):\n",
    "        #Define aquí la función para reparar los enlaces \"prev\"\n",
    "\n",
    "    def dibujar(self):\n",
    "      lld=aed.LinkedListDrawer(fieldHeader=\"cabecera\", fieldData=\"info\", fieldLink=\"sgte\", fieldReverseLink=\"prev\")\n",
    "      lld.draw_double_linked_list(self)"
   ]
  },
  {
   "cell_type": "markdown",
   "metadata": {},
   "source": [
    "Pruébela a continuación:"
   ]
  },
  {
   "cell_type": "code",
   "execution_count": null,
   "metadata": {},
   "outputs": [],
   "source": [
    "L=Lista_doble_enlace()\n",
    "L.insertar_despues_de(L.k_esimo(0),42)\n",
    "L.insertar_despues_de(L.k_esimo(1),65)\n",
    "L.insertar_despues_de(L.k_esimo(2),13)\n",
    "L.insertar_despues_de(L.k_esimo(3),44)\n",
    "L.dibujar() #Muestra la lista doblemente enlazada original\n",
    "\n",
    "L.destruye_prev()\n",
    "L.dibujar() #Muestra la lista como si fuera una lista enlazada simple (sin enlaces \"prev\")\n",
    "\n",
    "L.repara_prev()\n",
    "L.dibujar() #Muestra la lista con los enlaces \"prev\" reparados"
   ]
  },
  {
   "cell_type": "markdown",
   "metadata": {},
   "source": [
    "### Ejercicio 4.4\n",
    "\n",
    "Suponga que los campos ``info`` de los nodos externos de un árbol contienen solo números y escriba una función que pueda invocarse como ``formula.evaluar()``, que al ser ejecutada entregue el valor numérico  de la fórmula representada por el árbol. Escriba a continuación la definición de la clase ``Arbol`` que incluya la nueva función:"
   ]
  },
  {
   "cell_type": "code",
   "execution_count": null,
   "metadata": {},
   "outputs": [],
   "source": [
    "class Arbol:\n",
    "    #Defina su clase aquí"
   ]
  },
  {
   "cell_type": "markdown",
   "metadata": {},
   "source": [
    "Pruébela a continuación:"
   ]
  },
  {
   "cell_type": "code",
   "execution_count": null,
   "metadata": {},
   "outputs": [],
   "source": [
    "formula= Arbol(\n",
    "            Nodoi(\n",
    "                Nodoi(Nodoe(5),\"+\",Nodoe(2)),\n",
    "                \"*\",\n",
    "                Nodoi(\n",
    "                    Nodoe(8),\n",
    "                    \"-\",\n",
    "                    Nodoi(Nodoe(9),\"/\",Nodoe(3))\n",
    "                )\n",
    "            )\n",
    "        )\n",
    "print(formula.evaluar())"
   ]
  }
 ],
 "metadata": {
  "kernelspec": {
   "display_name": "Python 3",
   "language": "python",
   "name": "python3"
  },
  "language_info": {
   "codemirror_mode": {
    "name": "ipython",
    "version": 3
   },
   "file_extension": ".py",
   "mimetype": "text/x-python",
   "name": "python",
   "nbconvert_exporter": "python",
   "pygments_lexer": "ipython3",
   "version": "3.6.9"
  }
 },
 "nbformat": 4,
 "nbformat_minor": 4
}
