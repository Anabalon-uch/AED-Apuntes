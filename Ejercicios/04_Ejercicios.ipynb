{
 "cells": [
  {
   "cell_type": "markdown",
   "metadata": {},
   "source": [
    "### Ejercicio 4.1\n",
    "\n",
    "Demostrar que $T(n) = \\lceil \\log_2{(n+1)} \\rceil$, en el caso de la búsqueda binaria."
   ]
  },
  {
   "attachments": {},
   "cell_type": "markdown",
   "metadata": {},
   "source": [
    "### Ejercicio 4.2\n",
    "\n",
    "Cuando los datos que se encuentran en un arreglo son de tipo real (float) se puede implementar una búsqueda basada en interpolación que, en promedio, tiene mejor comportamiento que la búsqueda binaria. La idea es que en un arreglo de números reales ordenados se revise cuál es el valor del menor y del mayor y suponiendo que los datos están uniformemente distribuidos en el arreglo, se calcula por interpolación el lugar más probable donde se pueda encontrar el elemento buscado. Para simplificar, vamos a suponer que todos los elementos del arreglo son distintos.\n",
    "\n",
    "Para un segmento de un arreglo desde $a[i]$ hasta $a[j]$, queremos escribir la fórmula en términos de $a[i]$, $a[j]$, $i$, $j$ y $x$ (número buscado) que nos da $k$, que es el lugar donde queremos examinar a continuación, usando la proporción\n",
    "\n",
    "$$\n",
    "\\frac{x-a[i]}{a[j]-a[i]}=\\frac{k-i}{j-i}\n",
    "$$ \n",
    "\n",
    "de donde podemos despejar\n",
    "\n",
    "$$\n",
    "k = i+\\frac{x-a[i]}{a[j]-a[i]}(j-i)\n",
    "$$\n",
    "\n",
    "Como $k$ debe ser entero, la fórmula de la derecha debería redondearse, por ejemplo al entero inmediatamente inferior, para lo cual se puede usar la función `int` de python.\n",
    "\n",
    "_Nota_: A diferencia de la búsqueda binaria, en que está garantizado que $k$ está entre $i$ y $j$, esta fórmula podría dar valores fuera de ese rango. Esa sería una condición adicional que habría que chequear, y si se da ese caso, la búsqueda sería infructuosa.\n",
    "\n",
    "Con estas consideraciones, modifique la versión que viene a continuación para implementar la búsqueda por interpolación, y luego ejecute los casos de prueba. Observe que para evitar una división por cero en el caso $i=j$, es preferible que el ciclo `while` itere solo mientras $i<j$, y a la salida revisar si se detuvo porque $i$ era igual a $j$."
   ]
  },
  {
   "cell_type": "code",
   "execution_count": null,
   "metadata": {},
   "outputs": [],
   "source": [
    "# Búsqueda por interpolación\n",
    "# busca x en el arreglo a, retorna subíndice o -1 si no está\n",
    "def binterp(x,a):\n",
    "  # El código que viene a continuación es el de la búsqueda binaria.\n",
    "  # Usted debe modificarlo para que implemente la búsqueda por interpolación\n",
    "    n=len(a)\n",
    "    i=0\n",
    "    j=n-1\n",
    "    while i<=j:\n",
    "        k=(i+j)//2\n",
    "        if x==a[k]:\n",
    "            return k\n",
    "        if x<a[k]:\n",
    "            j=k-1\n",
    "        else:\n",
    "            i=k+1\n",
    "    return -1"
   ]
  },
  {
   "cell_type": "code",
   "execution_count": null,
   "metadata": {},
   "outputs": [],
   "source": [
    "# Casos de prueba\n",
    "a = [2.3, 5.4, 7.1, 15.3, 27.4, 28.3, 30.0, 37.8, 45.6]\n",
    "assert binterp(28.3,a)== 5\n",
    "print(\"OK\")\n",
    "assert binterp(2.3,a) == 0\n",
    "print(\"OK\")\n",
    "assert binterp(16,a) == -1\n",
    "print(\"OK\")"
   ]
  },
  {
   "attachments": {},
   "cell_type": "markdown",
   "metadata": {},
   "source": [
    "### Ejercicio 4.3\n",
    "Escriba una función que pueda ser invocada como ``L.reversar()``, que al ejecutarse re-enlace los nodos de la lista de modo que queden en el orden opuesto al original, en tiempo lineal en el largo de la lista. Esto debe hacerse solo modificando punteros, sin crear nuevos nodos. Escriba a continuación la definición de la clase ``Lista`` incluyendo la función ``reversar``."
   ]
  },
  {
   "cell_type": "code",
   "execution_count": null,
   "metadata": {},
   "outputs": [],
   "source": [
    "!pip install aed_utilities\n",
    "\n",
    "import aed_utilities as aed\n",
    "\n",
    "class Nodo:\n",
    "    def __init__(self, info, sgte=None):\n",
    "        self.info=info\n",
    "        self.sgte=sgte\n",
    "        \n",
    "class Lista:\n",
    "    def __init__(self):\n",
    "        self.primero=None\n",
    "        \n",
    "    def insertar_al_inicio(self,info):\n",
    "        self.primero=Nodo(info,self.primero)\n",
    "    \n",
    "    def insertar_despues_de(self,p,info): # inserta después de nodo p\n",
    "        p.sgte=Nodo(info,p.sgte)\n",
    "    \n",
    "    def eliminar_al_inicio(self):\n",
    "        assert self.primero is not None\n",
    "        self.primero=self.primero.sgte\n",
    "    \n",
    "    def eliminar_sgte_de(self,p): # elimina el nodo siguiente de p\n",
    "        assert p.sgte is not None\n",
    "        p.sgte=p.sgte.sgte\n",
    "    \n",
    "    def k_esimo(self,k): # retorna k-esimo nodo, o None si fuera de rango\n",
    "        p=self.primero\n",
    "        j=1\n",
    "        while p is not None:\n",
    "            if j==k:\n",
    "                return p\n",
    "            p=p.sgte\n",
    "            j+=1\n",
    "        return None\n",
    "    \n",
    "    def imprimir(self):\n",
    "        p=self.primero\n",
    "        while p is not None:\n",
    "            print(p.info, end=\" \")\n",
    "            p=p.sgte\n",
    "        print()\n",
    "    \n",
    "    def reversar(self):\n",
    "        #Escribir código aquí\n",
    "\n",
    "    def dibujar(self):\n",
    "      lld = aed.LinkedListDrawer(fieldHeader=\"primero\", fieldData=\"info\", fieldLink=\"sgte\", strHeader=\"primero\")\n",
    "      lld.draw_linked_list(self)"
   ]
  },
  {
   "cell_type": "markdown",
   "metadata": {},
   "source": [
    "Probar su función con los siguientes casos:"
   ]
  },
  {
   "cell_type": "code",
   "execution_count": null,
   "metadata": {},
   "outputs": [],
   "source": [
    "# Lista de varios elementos\n",
    "L=Lista()\n",
    "L.insertar_al_inicio(44)\n",
    "L.insertar_al_inicio(13)\n",
    "L.insertar_al_inicio(65)\n",
    "L.insertar_al_inicio(42)\n",
    "L.dibujar()\n",
    "L.reversar()\n",
    "L.dibujar()"
   ]
  },
  {
   "cell_type": "code",
   "execution_count": null,
   "metadata": {},
   "outputs": [],
   "source": [
    "# Lista vacía\n",
    "L1 = Lista()\n",
    "L1.dibujar()\n",
    "L1.reversar()\n",
    "L1.dibujar()"
   ]
  },
  {
   "cell_type": "code",
   "execution_count": null,
   "metadata": {},
   "outputs": [],
   "source": [
    "# Lista con un único elemento\n",
    "L2 = Lista()\n",
    "L2.insertar_al_inicio(12)\n",
    "L2.dibujar()\n",
    "L2.reversar()\n",
    "L2.dibujar()"
   ]
  },
  {
   "attachments": {},
   "cell_type": "markdown",
   "metadata": {},
   "source": [
    "### Ejercicio 4.4\n",
    "\n",
    "Suponga que por un accidente, o quizás por vandalismo, todos los punteros ``prev`` de una lista de doble enlace han sido destruidos. Afortunadamente, los punteros ``sgte`` están intactos. Usted debe escribir primero una función que pueda invocarse como ``L.destruye_prev()`` que remueva todos los punteros ``prev`` de los nodos. Para lograr esto hay que hacer que todos los punteros ``prev`` apunten a la cabecera. A continuación, debe escribir una función que pueda invocarse como ``L.repara_prev`` que reconstruya los punteros faltantes. A continuación se encuentra la definición de la clase ``Lista_doble_enlace`` incluyendo las cabeceras de las funciones ``destruye_prev`` y ``repara_prev`` que usted debe completar. También se entrega un caso de prueba para probar que sus funciones son correctas."
   ]
  },
  {
   "cell_type": "code",
   "execution_count": null,
   "metadata": {},
   "outputs": [],
   "source": [
    "!pip install aed_utilities\n",
    "\n",
    "import aed_utilities as aed\n",
    "\n",
    "class Nodo:\n",
    "    def __init__(self, prev, info, sgte):\n",
    "        self.prev=prev\n",
    "        self.info=info\n",
    "        self.sgte=sgte\n",
    "\n",
    "class Lista_doble_enlace:\n",
    "    def __init__(self):\n",
    "        self.cabecera=Nodo(None,0,None)\n",
    "        self.cabecera.prev=self.cabecera\n",
    "        self.cabecera.sgte=self.cabecera\n",
    "    \n",
    "    def insertar_despues_de(self,p,info): # inserta después de nodo p\n",
    "        r=p.sgte\n",
    "        p.sgte=r.prev=Nodo(p,info,r)\n",
    " \n",
    "    def eliminar(self,p): # elimina el nodo p\n",
    "        assert p is not self.cabecera\n",
    "        (p.prev.sgte,p.sgte.prev)=(p.sgte,p.prev)\n",
    "    \n",
    "    def k_esimo(self,k): # retorna k-esimo nodo, o None si fuera de rango\n",
    "        p=self.cabecera\n",
    "        j=0\n",
    "        while True:\n",
    "            if j==k:\n",
    "                return p\n",
    "            p=p.sgte\n",
    "            if p is self.cabecera:\n",
    "                return None\n",
    "            j+=1\n",
    "    \n",
    "    def ascendente(self):\n",
    "        p=self.cabecera.sgte\n",
    "        while p is not self.cabecera:\n",
    "            yield p.info\n",
    "            p=p.sgte\n",
    "\n",
    "    def descendente(self):\n",
    "        p=self.cabecera.prev\n",
    "        while p is not self.cabecera:\n",
    "            yield p.info\n",
    "            p=p.prev\n",
    "    \n",
    "    def destruye_prev(self):\n",
    "        #Define aqui la función para destruir todos los enlaces \"prev\"\n",
    "            \n",
    "    def repara_prev(self):\n",
    "        #Define aquí la función para reparar los enlaces \"prev\"\n",
    "\n",
    "    def dibujar(self):\n",
    "      lld=aed.LinkedListDrawer(fieldHeader=\"cabecera\", fieldData=\"info\", fieldLink=\"sgte\", fieldReverseLink=\"prev\")\n",
    "      lld.draw_double_linked_list(self)"
   ]
  },
  {
   "cell_type": "markdown",
   "metadata": {},
   "source": [
    "Pruébela a continuación:"
   ]
  },
  {
   "cell_type": "code",
   "execution_count": null,
   "metadata": {},
   "outputs": [],
   "source": [
    "L=Lista_doble_enlace()\n",
    "L.insertar_despues_de(L.k_esimo(0),42)\n",
    "L.insertar_despues_de(L.k_esimo(1),65)\n",
    "L.insertar_despues_de(L.k_esimo(2),13)\n",
    "L.insertar_despues_de(L.k_esimo(3),44)\n",
    "L.dibujar() #Muestra la lista doblemente enlazada original\n",
    "\n",
    "L.destruye_prev()\n",
    "L.dibujar() #Muestra la lista como si fuera una lista enlazada simple (sin enlaces \"prev\")\n",
    "\n",
    "L.repara_prev()\n",
    "L.dibujar() #Muestra la lista con los enlaces \"prev\" reparados"
   ]
  },
  {
   "attachments": {},
   "cell_type": "markdown",
   "metadata": {},
   "source": [
    "### Ejercicio 4.5\n",
    "\n",
    "Suponga que los campos ``info`` de los nodos externos de un árbol contienen solo números y escriba una función que pueda invocarse como ``formula.evaluar()``, que al ser ejecutada entregue el valor numérico  de la fórmula representada por el árbol. Modifique a continuación la definición de las clases ``Arbol``, ``Nodoi`` y ``Nodoe`` para que incluyan la nueva función ``evaluar()``. Note que tiene que implementar la función ``evaluar()`` en las tres clases."
   ]
  },
  {
   "cell_type": "code",
   "execution_count": null,
   "metadata": {},
   "outputs": [],
   "source": [
    "class Nodoi:\n",
    "    def __init__(self, izq, info, der):\n",
    "        self.izq=izq\n",
    "        self.info=info\n",
    "        self.der=der\n",
    "   \n",
    "class Nodoe:\n",
    "    def __init__(self, info=\"\"):\n",
    "        self.info=info\n",
    "    \n",
    "class Arbol:\n",
    "    def __init__(self,raiz=Nodoe()):\n",
    "        self.raiz=raiz"
   ]
  },
  {
   "cell_type": "markdown",
   "metadata": {},
   "source": [
    "Pruébela a continuación:"
   ]
  },
  {
   "cell_type": "code",
   "execution_count": null,
   "metadata": {},
   "outputs": [],
   "source": [
    "formula= Arbol(\n",
    "            Nodoi(\n",
    "                Nodoi(Nodoe(5),\"+\",Nodoe(2)),\n",
    "                \"*\",\n",
    "                Nodoi(\n",
    "                    Nodoe(8),\n",
    "                    \"-\",\n",
    "                    Nodoi(Nodoe(9),\"/\",Nodoe(3))\n",
    "                )\n",
    "            )\n",
    "        )\n",
    "print(formula.evaluar())"
   ]
  }
 ],
 "metadata": {
  "kernelspec": {
   "display_name": "Python 3",
   "language": "python",
   "name": "python3"
  },
  "language_info": {
   "codemirror_mode": {
    "name": "ipython",
    "version": 3
   },
   "file_extension": ".py",
   "mimetype": "text/x-python",
   "name": "python",
   "nbconvert_exporter": "python",
   "pygments_lexer": "ipython3",
   "version": "3.6.9"
  }
 },
 "nbformat": 4,
 "nbformat_minor": 4
}
